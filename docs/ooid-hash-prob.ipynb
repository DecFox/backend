{
 "cells": [
  {
   "cell_type": "code",
   "execution_count": 1,
   "metadata": {
    "collapsed": false
   },
   "outputs": [],
   "source": [
    "import pandas as pd\n",
    "from scipy.special import binom\n",
    "from scipy.misc import factorial\n",
    "from math import log"
   ]
  },
  {
   "cell_type": "code",
   "execution_count": 2,
   "metadata": {
    "collapsed": false
   },
   "outputs": [],
   "source": [
    "data = pd.read_csv('autoclaved-1529600920.coincidence-stat', sep='\\t', names=['rep', 'msm'])"
   ]
  },
  {
   "cell_type": "code",
   "execution_count": 3,
   "metadata": {
    "collapsed": false
   },
   "outputs": [
    {
     "data": {
      "text/html": [
       "<div>\n",
       "<table border=\"1\" class=\"dataframe\">\n",
       "  <thead>\n",
       "    <tr style=\"text-align: right;\">\n",
       "      <th></th>\n",
       "      <th>rep</th>\n",
       "      <th>msm</th>\n",
       "    </tr>\n",
       "  </thead>\n",
       "  <tbody>\n",
       "    <tr>\n",
       "      <th>0</th>\n",
       "      <td>2</td>\n",
       "      <td>1021</td>\n",
       "    </tr>\n",
       "    <tr>\n",
       "      <th>1</th>\n",
       "      <td>2</td>\n",
       "      <td>1023</td>\n",
       "    </tr>\n",
       "    <tr>\n",
       "      <th>2</th>\n",
       "      <td>2</td>\n",
       "      <td>999</td>\n",
       "    </tr>\n",
       "    <tr>\n",
       "      <th>3</th>\n",
       "      <td>4</td>\n",
       "      <td>1002</td>\n",
       "    </tr>\n",
       "    <tr>\n",
       "      <th>4</th>\n",
       "      <td>4</td>\n",
       "      <td>1002</td>\n",
       "    </tr>\n",
       "  </tbody>\n",
       "</table>\n",
       "</div>"
      ],
      "text/plain": [
       "   rep   msm\n",
       "0    2  1021\n",
       "1    2  1023\n",
       "2    2   999\n",
       "3    4  1002\n",
       "4    4  1002"
      ]
     },
     "execution_count": 3,
     "metadata": {},
     "output_type": "execute_result"
    }
   ],
   "source": [
    "data.head()"
   ]
  },
  {
   "cell_type": "code",
   "execution_count": 4,
   "metadata": {
    "collapsed": false
   },
   "outputs": [
    {
     "name": "stdout",
     "output_type": "stream",
     "text": [
      "Number of colliding timestamps: 316084\n",
      "Number of reports: 753235\n",
      "Number of measurements: 40440216\n"
     ]
    }
   ],
   "source": [
    "print 'Number of colliding timestamps:', len(data.rep)\n",
    "print 'Number of reports:', data.rep.sum()\n",
    "print 'Number of measurements:', data.msm.sum()"
   ]
  },
  {
   "cell_type": "code",
   "execution_count": 5,
   "metadata": {
    "collapsed": false
   },
   "outputs": [],
   "source": [
    "def prob(bits):\n",
    "    space = (2.**bits)**data.rep\n",
    "    k = data.rep\n",
    "    n = (2.**bits) - data.msm\n",
    "    good = binom(n + k , k) * factorial(data.rep)\n",
    "    perexp = good / space\n",
    "    return perexp"
   ]
  },
  {
   "cell_type": "code",
   "execution_count": 6,
   "metadata": {
    "collapsed": false
   },
   "outputs": [
    {
     "name": "stdout",
     "output_type": "stream",
     "text": [
      "32    0.0 0.968998231107\n",
      "31    0.1 0.938957560662\n",
      "30    0.2 0.881641258555\n",
      "29    0.4 0.777291160072\n",
      "28    0.7 0.604181085148\n",
      "27    1.5 0.365033666199\n",
      "26    2.9 0.133247945814\n",
      "25    5.8 0.0177541454083\n",
      "24   11.6 0.000315147922694\n",
      "23   23.3 9.92403912673e-08\n",
      "22   46.5 9.81781524666e-15\n",
      "21   93.1 9.51871872619e-29\n",
      "20  186.2 8.6164609409e-57\n"
     ]
    }
   ],
   "source": [
    "for i in [32, 31, 30, 29, 28, 27, 26, 25, 24, 23, 22, 21, 20]:\n",
    "    perexp = prob(i)\n",
    "    p = perexp.prod() # all at once\n",
    "    print i, '%6.1f' % (-log(p)/log(2)), p"
   ]
  },
  {
   "cell_type": "code",
   "execution_count": 7,
   "metadata": {
    "collapsed": false
   },
   "outputs": [
    {
     "data": {
      "text/plain": [
       "count    316084.000000\n",
       "mean          0.999593\n",
       "std           0.001830\n",
       "min           0.906941\n",
       "25%           0.999957\n",
       "50%           0.999999\n",
       "75%           0.999999\n",
       "max           1.000020\n",
       "dtype: float64"
      ]
     },
     "execution_count": 7,
     "metadata": {},
     "output_type": "execute_result"
    }
   ],
   "source": [
    "# per-experiment probability of success is still quite high, so some set of keys can be bruteforced for 20bit tail\n",
    "pd.Series(perexp).describe()"
   ]
  },
  {
   "cell_type": "code",
   "execution_count": 8,
   "metadata": {
    "collapsed": false
   },
   "outputs": [
    {
     "name": "stdout",
     "output_type": "stream",
     "text": [
      "Number of buckets 256\n"
     ]
    },
    {
     "data": {
      "text/plain": [
       "count    257.000000\n",
       "mean       0.668918\n",
       "std        0.220726\n",
       "min        0.002041\n",
       "25%        0.533609\n",
       "50%        0.687229\n",
       "75%        0.842643\n",
       "max        0.989087\n",
       "dtype: float64"
      ]
     },
     "execution_count": 8,
     "metadata": {},
     "output_type": "execute_result"
    }
   ],
   "source": [
    "step = 1234\n",
    "print 'Number of buckets', len(perexp) / step\n",
    "pd.Series([perexp[i:i+step].product() for i in range(0, len(perexp), step)]).describe()"
   ]
  }
 ],
 "metadata": {
  "kernelspec": {
   "display_name": "Python 2",
   "language": "python",
   "name": "python2"
  },
  "language_info": {
   "codemirror_mode": {
    "name": "ipython",
    "version": 2
   },
   "file_extension": ".py",
   "mimetype": "text/x-python",
   "name": "python",
   "nbconvert_exporter": "python",
   "pygments_lexer": "ipython2",
   "version": "2.7.11"
  }
 },
 "nbformat": 4,
 "nbformat_minor": 0
}
