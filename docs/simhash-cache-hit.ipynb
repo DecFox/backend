{
 "cells": [
  {
   "cell_type": "code",
   "execution_count": 1,
   "metadata": {},
   "outputs": [],
   "source": [
    "import binascii\n",
    "import pandas as pd"
   ]
  },
  {
   "cell_type": "code",
   "execution_count": 2,
   "metadata": {},
   "outputs": [
    {
     "name": "stdout",
     "output_type": "stream",
     "text": [
      "Populating the interactive namespace from numpy and matplotlib\n"
     ]
    }
   ],
   "source": [
    "%pylab inline"
   ]
  },
  {
   "cell_type": "code",
   "execution_count": 3,
   "metadata": {},
   "outputs": [],
   "source": [
    "FILES = range(213, 334+1)"
   ]
  },
  {
   "cell_type": "markdown",
   "metadata": {},
   "source": [
    "The procedure to generate the files was following:\n",
    "\n",
    "```bash\n",
    "for d in 2018-08-{01..31} 2018-09-{01..30} 2018-10-{01..31} 2018-11-{01..30}; do\n",
    "    if [ -s \"$d\" ]; then\n",
    "        echo \"$d\"\n",
    "        time psql.amsmetadb --no-align --tuples-only -c \"with msm as (select distinct msm_no from autoclaved join report using (autoclaved_no) join measurement using (report_no) where bucket_date = '$d'), lim as (select min(msm_no), max(msm_no) from msm) select body_sha256, body_simhash, body_text_simhash, body_length from http_request where msm_no in (select * from msm) and msm_no >= (select min from lim) and msm_no <= (select max from lim) and body_sha256 is not null union all select body_sha256, body_simhash, body_text_simhash, body_length from http_control where msm_no in (select * from msm) and msm_no >= (select min from lim) and msm_no <= (select max from lim) and body_sha256 is not null\" >\"$d\"\n",
    "    fi\n",
    "done\n",
    "\n",
    "for f in 2018-*; do mv $f $(date -d \"$f\" +%j); done\n",
    "```"
   ]
  },
  {
   "cell_type": "code",
   "execution_count": 4,
   "metadata": {},
   "outputs": [],
   "source": [
    "CACHEENTRY_SIZE = int((256 + 64 + 64) / 8 / 0.268) # 26.8% is an estimate of useful space in the dict structure\n",
    "MB = 1024. * 1024"
   ]
  },
  {
   "cell_type": "markdown",
   "metadata": {},
   "source": [
    "The estimate was done with following `test.py` script:\n",
    "\n",
    "```python\n",
    "import binascii\n",
    "import sys\n",
    "import resource\n",
    "import struct\n",
    "import array\n",
    "def load_cache():\n",
    "    cache = {}\n",
    "    s = struct.Struct('qq')\n",
    "    with open(sys.argv[1]) as fd:\n",
    "        for line in fd:\n",
    "            line = line.strip().split('|')\n",
    "            key = binascii.a2b_hex(line[0][2:])\n",
    "            # Py2.7: 0.197, Py3.5: 0.180, Py3.6: 0.187, Py3.7: 0.187\n",
    "            #value = (int(line[1]), int(line[2]))\n",
    "            # Py2.7: 0.236, Py3.5: 0.223, Py3.6: 0.231, Py3.7: 0.231\n",
    "            #value = line[1] + '|' + line[2]\n",
    "            # Py2.7: 0.268, Py3.5: 0.268, Py3.6: 0.282, Py3.7: 0.281\n",
    "            value = s.pack(int(line[1]), int(line[2]))\n",
    "            # Py2.7: 0.288, Py3.5: 0.287, Py3.6: 0.303, Py3.7: 0.301\n",
    "            #value = int(line[1]) << 64 | int(line[2]) # maybe that's not bit-perfect\n",
    "            # Py2.7: 0.394, Py3.5: 0.396, Py3.6: 0.424, Py3.7: 0.423\n",
    "            #value = None # theoretical maxium of density with dict and specific key representation\n",
    "            cache[key] = value\n",
    "    return cache\n",
    "def main():\n",
    "    base = resource.getrusage(resource.RUSAGE_SELF).ru_maxrss\n",
    "    cache = load_cache()\n",
    "    data = resource.getrusage(resource.RUSAGE_SELF).ru_maxrss\n",
    "    rss = data - base\n",
    "    print('{:d} items, {:d} KiB, {:.3f} %util'.format(len(cache), rss,\n",
    "        len(cache) * ((256 + 64 + 64) / 8) / (1024. * rss)))\n",
    "if __name__ == '__main__':\n",
    "    main()\n",
    "```"
   ]
  },
  {
   "cell_type": "markdown",
   "metadata": {},
   "source": [
    "# What's the best depth?"
   ]
  },
  {
   "cell_type": "code",
   "execution_count": 5,
   "metadata": {},
   "outputs": [],
   "source": [
    "def df_row_with_cache(x, cache, dyn):\n",
    "    total, hit, btotal, bhit = 0, 0, 0, 0\n",
    "    start_len = len(cache)\n",
    "    with open('{:d}'.format(x)) as fd:\n",
    "        for _ in fd:\n",
    "            sz = int(_.rsplit('|', 1)[1])\n",
    "            total += 1\n",
    "            btotal += sz\n",
    "            key = binascii.unhexlify(_[2:66])\n",
    "            if key in cache:\n",
    "                hit += 1\n",
    "                bhit += sz\n",
    "            elif dyn:\n",
    "                cache.add(key)\n",
    "    return (x, hit, total, bhit, btotal, start_len, len(cache))\n",
    "    \n",
    "def df_from_rows(row):\n",
    "    d = pd.DataFrame(row, columns=['x', 'hit', 'total', 'bhit', 'btotal', 'start_len', 'end_len'])\n",
    "    d['ratio'] = d.hit / d.total\n",
    "    d['bratio'] = d.bhit / d.btotal\n",
    "    d.set_index('x', drop=False, inplace=True)\n",
    "    return d    "
   ]
  },
  {
   "cell_type": "code",
   "execution_count": 6,
   "metadata": {},
   "outputs": [],
   "source": [
    "def calc(depth):\n",
    "    row = []\n",
    "    for x in FILES[depth:]:\n",
    "        cache = set()\n",
    "        for prev in xrange(depth):\n",
    "            with open('{:d}'.format(x - prev - 1)) as fd:\n",
    "                cache.update({binascii.unhexlify(_[2:66]) for _ in fd})\n",
    "        row.append(df_row_with_cache(x, cache, dyn=False))\n",
    "    return df_from_rows(row)"
   ]
  },
  {
   "cell_type": "code",
   "execution_count": 7,
   "metadata": {},
   "outputs": [],
   "source": [
    "d1 = calc(depth=1)"
   ]
  },
  {
   "cell_type": "code",
   "execution_count": 8,
   "metadata": {},
   "outputs": [
    {
     "data": {
      "text/plain": [
       "count    119.000000\n",
       "mean       0.453759\n",
       "std        0.061638\n",
       "min        0.000000\n",
       "25%        0.452917\n",
       "50%        0.461423\n",
       "75%        0.468988\n",
       "max        0.496665\n",
       "Name: ratio, dtype: float64"
      ]
     },
     "execution_count": 8,
     "metadata": {},
     "output_type": "execute_result"
    },
    {
     "data": {
      "image/png": "[encoded data removed]",
      "text/plain": [
       "<Figure size 432x288 with 1 Axes>"
      ]
     },
     "metadata": {},
     "output_type": "display_data"
    }
   ],
   "source": [
    "scatter(d1.x, d1.ratio)\n",
    "d1.ratio.describe()"
   ]
  },
  {
   "cell_type": "code",
   "execution_count": 9,
   "metadata": {},
   "outputs": [],
   "source": [
    "d2 = calc(depth=2)"
   ]
  },
  {
   "cell_type": "code",
   "execution_count": 10,
   "metadata": {},
   "outputs": [
    {
     "data": {
      "text/plain": [
       "count    118.000000\n",
       "mean       0.466060\n",
       "std        0.016722\n",
       "min        0.387390\n",
       "25%        0.457964\n",
       "50%        0.466787\n",
       "75%        0.475006\n",
       "max        0.499960\n",
       "Name: ratio, dtype: float64"
      ]
     },
     "execution_count": 10,
     "metadata": {},
     "output_type": "execute_result"
    },
    {
     "data": {
      "image/png": "[encoded data removed]",
      "text/plain": [
       "<Figure size 432x288 with 1 Axes>"
      ]
     },
     "metadata": {},
     "output_type": "display_data"
    }
   ],
   "source": [
    "scatter(d2.x, d2.ratio)\n",
    "d2.ratio.describe()"
   ]
  },
  {
   "cell_type": "code",
   "execution_count": 11,
   "metadata": {},
   "outputs": [
    {
     "data": {
      "text/plain": [
       "count    118.000000\n",
       "mean       0.012398\n",
       "std        0.055022\n",
       "min        0.000000\n",
       "25%        0.003244\n",
       "50%        0.004825\n",
       "75%        0.006493\n",
       "max        0.446525\n",
       "Name: ratio, dtype: float64"
      ]
     },
     "execution_count": 11,
     "metadata": {},
     "output_type": "execute_result"
    },
    {
     "data": {
      "image/png": "[encoded data removed]",
      "text/plain": [
       "<Figure size 432x288 with 1 Axes>"
      ]
     },
     "metadata": {},
     "output_type": "display_data"
    }
   ],
   "source": [
    "diff = d2.ratio - d1.ratio\n",
    "diff.hist(bins=10)\n",
    "diff.describe()"
   ]
  },
  {
   "cell_type": "code",
   "execution_count": 12,
   "metadata": {},
   "outputs": [
    {
     "data": {
      "text/plain": [
       "<matplotlib.collections.PathCollection at 0x7fd2df74cf90>"
      ]
     },
     "execution_count": 12,
     "metadata": {},
     "output_type": "execute_result"
    },
    {
     "data": {
      "image/png": "[encoded data removed]",
      "text/plain": [
       "<Figure size 432x288 with 1 Axes>"
      ]
     },
     "metadata": {},
     "output_type": "display_data"
    }
   ],
   "source": [
    "scatter(diff.index, diff)"
   ]
  },
  {
   "cell_type": "markdown",
   "metadata": {},
   "source": [
    "So, there is no reason to take more than one bucket as Simhash cache as IQR ~ 0.003 &mdash; `depth=1` is good enough."
   ]
  },
  {
   "cell_type": "markdown",
   "metadata": {},
   "source": [
    "# Is week-old bucket as good as the yesterday's one?"
   ]
  },
  {
   "cell_type": "code",
   "execution_count": 13,
   "metadata": {},
   "outputs": [],
   "source": [
    "def calc_week():\n",
    "    row = []\n",
    "    for x in FILES[7:]:\n",
    "        with open('{:d}'.format(x - 7)) as fd:\n",
    "            cache = {binascii.unhexlify(_[2:66]) for _ in fd}\n",
    "        row.append(df_row_with_cache(x, cache, dyn=False))\n",
    "    return df_from_rows(row)"
   ]
  },
  {
   "cell_type": "code",
   "execution_count": 14,
   "metadata": {},
   "outputs": [],
   "source": [
    "d17 = calc_week()"
   ]
  },
  {
   "cell_type": "code",
   "execution_count": 15,
   "metadata": {},
   "outputs": [
    {
     "data": {
      "text/plain": [
       "count    113.000000\n",
       "mean       0.323854\n",
       "std        0.044418\n",
       "min        0.000000\n",
       "25%        0.323235\n",
       "50%        0.329020\n",
       "75%        0.335014\n",
       "max        0.352001\n",
       "Name: ratio, dtype: float64"
      ]
     },
     "execution_count": 15,
     "metadata": {},
     "output_type": "execute_result"
    },
    {
     "data": {
      "image/png": "[encoded data removed]",
      "text/plain": [
       "<Figure size 432x288 with 1 Axes>"
      ]
     },
     "metadata": {},
     "output_type": "display_data"
    }
   ],
   "source": [
    "scatter(d17.x, d17.ratio)\n",
    "d17.ratio.describe()"
   ]
  },
  {
   "cell_type": "code",
   "execution_count": 16,
   "metadata": {},
   "outputs": [
    {
     "data": {
      "text/plain": [
       "count    113.000000\n",
       "mean      -0.129231\n",
       "std        0.077366\n",
       "min       -0.463717\n",
       "25%       -0.141660\n",
       "50%       -0.132295\n",
       "75%       -0.122428\n",
       "max        0.339009\n",
       "Name: ratio, dtype: float64"
      ]
     },
     "execution_count": 16,
     "metadata": {},
     "output_type": "execute_result"
    }
   ],
   "source": [
    "(d17.ratio - d1.ratio).describe()"
   ]
  },
  {
   "cell_type": "markdown",
   "metadata": {},
   "source": [
    "Yes, it's worse than fresh bucket, but that's still quite good."
   ]
  },
  {
   "cell_type": "markdown",
   "metadata": {},
   "source": [
    "# Does dynamic cache update help?"
   ]
  },
  {
   "cell_type": "code",
   "execution_count": 17,
   "metadata": {},
   "outputs": [],
   "source": [
    "def calc_dyn():\n",
    "    row = []\n",
    "    for x in FILES[1:]:\n",
    "        with open('{:d}'.format(x - 1)) as fd:\n",
    "            cache = {binascii.unhexlify(_[2:66]) for _ in fd}\n",
    "        row.append(df_row_with_cache(x, cache, dyn=True))\n",
    "    return df_from_rows(row)        "
   ]
  },
  {
   "cell_type": "code",
   "execution_count": 18,
   "metadata": {},
   "outputs": [],
   "source": [
    "dd = calc_dyn()"
   ]
  },
  {
   "cell_type": "code",
   "execution_count": 19,
   "metadata": {},
   "outputs": [
    {
     "data": {
      "text/plain": [
       "count    119.000000\n",
       "mean       0.608656\n",
       "std        0.008876\n",
       "min        0.556575\n",
       "25%        0.604430\n",
       "50%        0.609102\n",
       "75%        0.613458\n",
       "max        0.626283\n",
       "Name: ratio, dtype: float64"
      ]
     },
     "execution_count": 19,
     "metadata": {},
     "output_type": "execute_result"
    },
    {
     "data": {
      "image/png": "[encoded data removed]",
      "text/plain": [
       "<Figure size 432x288 with 1 Axes>"
      ]
     },
     "metadata": {},
     "output_type": "display_data"
    }
   ],
   "source": [
    "scatter(dd.x, dd.ratio)\n",
    "dd.ratio.describe()"
   ]
  },
  {
   "cell_type": "code",
   "execution_count": 20,
   "metadata": {},
   "outputs": [
    {
     "data": {
      "image/png": "[encoded data removed]",
      "text/plain": [
       "<Figure size 432x288 with 1 Axes>"
      ]
     },
     "metadata": {},
     "output_type": "display_data"
    },
    {
     "data": {
      "text/plain": [
       "count    119.000000\n",
       "mean       0.154897\n",
       "std        0.059096\n",
       "min        0.117732\n",
       "25%        0.140775\n",
       "50%        0.147136\n",
       "75%        0.153087\n",
       "max        0.602036\n",
       "Name: ratio, dtype: float64"
      ]
     },
     "execution_count": 20,
     "metadata": {},
     "output_type": "execute_result"
    }
   ],
   "source": [
    "diff = dd.ratio - d1.ratio\n",
    "scatter(diff.index, diff)\n",
    "show()\n",
    "diff.describe()"
   ]
  },
  {
   "cell_type": "code",
   "execution_count": 21,
   "metadata": {},
   "outputs": [
    {
     "data": {
      "text/plain": [
       "count    121.000000\n",
       "mean      16.120223\n",
       "std        4.232953\n",
       "min        0.000000\n",
       "25%       14.892881\n",
       "50%       15.705279\n",
       "75%       16.768788\n",
       "max       44.992405\n",
       "Name: start_len, dtype: float64"
      ]
     },
     "execution_count": 21,
     "metadata": {},
     "output_type": "execute_result"
    }
   ],
   "source": [
    "(dd.start_len * CACHEENTRY_SIZE / MB).describe()"
   ]
  },
  {
   "cell_type": "code",
   "execution_count": 22,
   "metadata": {},
   "outputs": [
    {
     "data": {
      "text/plain": [
       "count    121.000000\n",
       "mean      31.385163\n",
       "std        4.862132\n",
       "min       16.811636\n",
       "25%       28.985656\n",
       "50%       30.843297\n",
       "75%       32.528865\n",
       "max       58.756055\n",
       "Name: end_len, dtype: float64"
      ]
     },
     "execution_count": 22,
     "metadata": {},
     "output_type": "execute_result"
    }
   ],
   "source": [
    "(dd.end_len * CACHEENTRY_SIZE / MB).describe()"
   ]
  },
  {
   "cell_type": "markdown",
   "metadata": {},
   "source": [
    "Doing dynamic cache update improves cache-hit from ~46% to ~60%."
   ]
  },
  {
   "cell_type": "markdown",
   "metadata": {},
   "source": [
    "# Is there easy way to reduce cache size, keeping cache-hit ratio?"
   ]
  },
  {
   "cell_type": "code",
   "execution_count": 23,
   "metadata": {},
   "outputs": [],
   "source": [
    "def calc_onlydup():\n",
    "    row = []\n",
    "    for x in FILES[1:]:\n",
    "        known, cache = set(), set()\n",
    "        with open('{:d}'.format(x - 1)) as fd:\n",
    "            for _ in fd:\n",
    "                key = binascii.unhexlify(_[2:66])\n",
    "                if key in known:\n",
    "                    cache.add(key)\n",
    "                known.add(key)\n",
    "        row.append(df_row_with_cache(x, cache, dyn=False))\n",
    "    return df_from_rows(row)"
   ]
  },
  {
   "cell_type": "code",
   "execution_count": 24,
   "metadata": {},
   "outputs": [],
   "source": [
    "od = calc_onlydup()"
   ]
  },
  {
   "cell_type": "code",
   "execution_count": 25,
   "metadata": {},
   "outputs": [
    {
     "data": {
      "text/plain": [
       "count    119.000000\n",
       "mean       0.432306\n",
       "std        0.058772\n",
       "min        0.000000\n",
       "25%        0.432889\n",
       "50%        0.439739\n",
       "75%        0.446418\n",
       "max        0.474412\n",
       "Name: ratio, dtype: float64"
      ]
     },
     "execution_count": 25,
     "metadata": {},
     "output_type": "execute_result"
    },
    {
     "data": {
      "image/png": "[encoded data removed]",
      "text/plain": [
       "<Figure size 432x288 with 1 Axes>"
      ]
     },
     "metadata": {},
     "output_type": "display_data"
    }
   ],
   "source": [
    "scatter(od.x, od.ratio)\n",
    "od.ratio.describe()"
   ]
  },
  {
   "cell_type": "code",
   "execution_count": 26,
   "metadata": {},
   "outputs": [
    {
     "data": {
      "image/png": "[encoded data removed]",
      "text/plain": [
       "<Figure size 432x288 with 1 Axes>"
      ]
     },
     "metadata": {},
     "output_type": "display_data"
    },
    {
     "data": {
      "text/plain": [
       "count    119.000000\n",
       "mean      -0.021453\n",
       "std        0.004945\n",
       "min       -0.035891\n",
       "25%       -0.024240\n",
       "50%       -0.021191\n",
       "75%       -0.018773\n",
       "max        0.000000\n",
       "Name: ratio, dtype: float64"
      ]
     },
     "execution_count": 26,
     "metadata": {},
     "output_type": "execute_result"
    }
   ],
   "source": [
    "diff = od.ratio - d1.ratio\n",
    "scatter(diff.index, diff)\n",
    "show()\n",
    "diff.describe()"
   ]
  },
  {
   "cell_type": "markdown",
   "metadata": {},
   "source": [
    "Cache-hit becomes slightly worse with \"only duplicates from previous bucket\" strategy: from ~46% to ~44%."
   ]
  },
  {
   "cell_type": "code",
   "execution_count": 27,
   "metadata": {},
   "outputs": [
    {
     "data": {
      "text/plain": [
       "count    121.000000\n",
       "mean       1.919296\n",
       "std        0.505534\n",
       "min        0.000000\n",
       "25%        1.735415\n",
       "50%        1.877614\n",
       "75%        2.015887\n",
       "max        5.161518\n",
       "Name: end_len, dtype: float64"
      ]
     },
     "execution_count": 27,
     "metadata": {},
     "output_type": "execute_result"
    }
   ],
   "source": [
    "(od.end_len * CACHEENTRY_SIZE / MB).describe()"
   ]
  },
  {
   "cell_type": "code",
   "execution_count": 28,
   "metadata": {},
   "outputs": [
    {
     "data": {
      "text/plain": [
       "count    121.000000\n",
       "mean      16.120223\n",
       "std        4.232953\n",
       "min        0.000000\n",
       "25%       14.892881\n",
       "50%       15.705279\n",
       "75%       16.768788\n",
       "max       44.992405\n",
       "Name: end_len, dtype: float64"
      ]
     },
     "execution_count": 28,
     "metadata": {},
     "output_type": "execute_result"
    }
   ],
   "source": [
    "(d1.end_len * CACHEENTRY_SIZE / MB).describe()"
   ]
  },
  {
   "cell_type": "code",
   "execution_count": 29,
   "metadata": {},
   "outputs": [
    {
     "data": {
      "text/plain": [
       "count    121.000000\n",
       "mean     -14.200927\n",
       "std        3.758579\n",
       "min      -39.830887\n",
       "25%      -14.869665\n",
       "50%      -13.897655\n",
       "75%      -12.996148\n",
       "max        0.000000\n",
       "Name: end_len, dtype: float64"
      ]
     },
     "execution_count": 29,
     "metadata": {},
     "output_type": "execute_result"
    }
   ],
   "source": [
    "((od.end_len - d1.end_len) * CACHEENTRY_SIZE / MB).describe()"
   ]
  },
  {
   "cell_type": "code",
   "execution_count": 30,
   "metadata": {},
   "outputs": [
    {
     "data": {
      "text/plain": [
       "count    119.000000\n",
       "mean       0.119339\n",
       "std        0.010292\n",
       "min        0.101720\n",
       "25%        0.111425\n",
       "50%        0.117940\n",
       "75%        0.124021\n",
       "max        0.150828\n",
       "Name: end_len, dtype: float64"
      ]
     },
     "execution_count": 30,
     "metadata": {},
     "output_type": "execute_result"
    }
   ],
   "source": [
    "(od.end_len / d1.end_len).describe()"
   ]
  },
  {
   "cell_type": "markdown",
   "metadata": {},
   "source": [
    "But memory savings are quite measurable! From ~16 Mib (45 max) down to ~2 MiB (5 max)."
   ]
  },
  {
   "cell_type": "markdown",
   "metadata": {},
   "source": [
    "# How does _\"only-dup + dynamic\"_ behave?"
   ]
  },
  {
   "cell_type": "code",
   "execution_count": 31,
   "metadata": {},
   "outputs": [],
   "source": [
    "def calc_combo():\n",
    "    row = []\n",
    "    for x in FILES[1:]:\n",
    "        known, cache = set(), set()\n",
    "        with open('{:d}'.format(x - 1)) as fd:\n",
    "            for _ in fd:\n",
    "                key = binascii.unhexlify(_[2:66])\n",
    "                if key in known:\n",
    "                    cache.add(key)\n",
    "                known.add(key)\n",
    "        row.append(df_row_with_cache(x, cache, dyn=True))\n",
    "    return df_from_rows(row)"
   ]
  },
  {
   "cell_type": "code",
   "execution_count": 32,
   "metadata": {},
   "outputs": [],
   "source": [
    "cc = calc_combo()"
   ]
  },
  {
   "cell_type": "code",
   "execution_count": 33,
   "metadata": {},
   "outputs": [
    {
     "data": {
      "text/plain": [
       "count    119.000000\n",
       "mean       0.598836\n",
       "std        0.008614\n",
       "min        0.550029\n",
       "25%        0.594257\n",
       "50%        0.598882\n",
       "75%        0.603401\n",
       "max        0.615940\n",
       "Name: ratio, dtype: float64"
      ]
     },
     "execution_count": 33,
     "metadata": {},
     "output_type": "execute_result"
    },
    {
     "data": {
      "image/png": "[encoded data removed]",
      "text/plain": [
       "<Figure size 432x288 with 1 Axes>"
      ]
     },
     "metadata": {},
     "output_type": "display_data"
    }
   ],
   "source": [
    "scatter(cc.x, cc.ratio)\n",
    "cc.ratio.describe()"
   ]
  },
  {
   "cell_type": "code",
   "execution_count": 34,
   "metadata": {},
   "outputs": [
    {
     "data": {
      "image/png": "[encoded data removed]",
      "text/plain": [
       "<Figure size 432x288 with 1 Axes>"
      ]
     },
     "metadata": {},
     "output_type": "display_data"
    },
    {
     "data": {
      "text/plain": [
       "count    119.000000\n",
       "mean      -0.009820\n",
       "std        0.002781\n",
       "min       -0.017557\n",
       "25%       -0.011426\n",
       "50%       -0.009475\n",
       "75%       -0.008116\n",
       "max        0.000000\n",
       "Name: ratio, dtype: float64"
      ]
     },
     "execution_count": 34,
     "metadata": {},
     "output_type": "execute_result"
    }
   ],
   "source": [
    "diff = cc.ratio - dd.ratio\n",
    "scatter(diff.index, diff)\n",
    "show()\n",
    "diff.describe()"
   ]
  },
  {
   "cell_type": "markdown",
   "metadata": {},
   "source": [
    "_\"Only-dup + dynamic-update\"_ is ~1% worse than _\"prev-bucket + dynamic-update\"_.\n",
    "\n",
    "Is memory saving measurable?..."
   ]
  },
  {
   "cell_type": "code",
   "execution_count": 35,
   "metadata": {},
   "outputs": [
    {
     "name": "stdout",
     "output_type": "stream",
     "text": [
      "58.8 -> 46.2\n"
     ]
    },
    {
     "data": {
      "text/plain": [
       "count    121.000000\n",
       "mean     -13.828503\n",
       "std        3.759391\n",
       "min      -39.489471\n",
       "25%      -14.576219\n",
       "50%      -13.533365\n",
       "75%      -12.564087\n",
       "max        0.000000\n",
       "Name: end_len, dtype: float64"
      ]
     },
     "execution_count": 35,
     "metadata": {},
     "output_type": "execute_result"
    }
   ],
   "source": [
    "print('{:.1f} -> {:.1f}'.format(dd.end_len.max() * CACHEENTRY_SIZE / MB, cc.end_len.max() * CACHEENTRY_SIZE / MB))\n",
    "((cc.end_len - dd.end_len) * CACHEENTRY_SIZE / MB).describe()"
   ]
  },
  {
   "cell_type": "code",
   "execution_count": 36,
   "metadata": {},
   "outputs": [
    {
     "data": {
      "text/plain": [
       "count    121.000000\n",
       "mean       0.559057\n",
       "std        0.090338\n",
       "min        0.113575\n",
       "25%        0.548500\n",
       "50%        0.560755\n",
       "75%        0.571382\n",
       "max        1.000000\n",
       "Name: end_len, dtype: float64"
      ]
     },
     "execution_count": 36,
     "metadata": {},
     "output_type": "execute_result"
    }
   ],
   "source": [
    "(cc.end_len / dd.end_len).describe()"
   ]
  },
  {
   "cell_type": "markdown",
   "metadata": {},
   "source": [
    "# Stats"
   ]
  },
  {
   "cell_type": "code",
   "execution_count": 37,
   "metadata": {},
   "outputs": [
    {
     "name": "stdout",
     "output_type": "stream",
     "text": [
      "          name | hit0    h25    h50    h75   h100 | mem0    m25    m50    m75   m100\n",
      "       d1-gap7 |  0.0   32.3   32.9   33.5   35.2 |  0.0   14.8   15.7   16.7   45.0\n",
      "      only-dup |  0.0   43.3   44.0   44.6   47.4 |  0.0    1.7    1.9    2.0    5.2\n",
      "            d1 |  0.0   45.3   46.1   46.9   49.7 |  0.0   14.9   15.7   16.8   45.0\n",
      "            d2 | 38.7   45.8   46.7   47.5   50.0 | 16.8   29.0   30.8   32.6   58.8\n",
      "only-dup + dyn | 55.0   59.4   59.9   60.3   61.6 |  2.2   16.3   17.2   18.2   46.2\n",
      "      d1 + dyn | 55.7   60.4   60.9   61.3   62.6 | 16.8   29.0   30.8   32.5   58.8\n"
     ]
    }
   ],
   "source": [
    "def _():\n",
    "    print '{:>14s} | {:>4s}   {:>4s}   {:>4s}   {:>4s}   {:>4s} | {:>4s}   {:>4s}   {:>4s}   {:>4s}   {:>4s}'.format(\n",
    "        'name',\n",
    "        'hit0', 'h25', 'h50', 'h75', 'h100',\n",
    "        'mem0', 'm25', 'm50', 'm75', 'm100'\n",
    "    )\n",
    "    \n",
    "    for name, stat in (\n",
    "        ('d1-gap7', d17),\n",
    "        ('only-dup', od),\n",
    "        ('d1', d1),\n",
    "        ('d2', d2),\n",
    "        ('only-dup + dyn', cc),\n",
    "        ('d1 + dyn', dd),\n",
    "    ):\n",
    "        r = stat.ratio.describe()\n",
    "        m = stat.end_len.describe() * CACHEENTRY_SIZE / MB\n",
    "        \n",
    "        print '{:>14s} | {:>4.1f}   {:>4.1f}   {:>4.1f}   {:>4.1f}   {:>4.1f} | {:>4.1f}   {:>4.1f}   {:>4.1f}   {:>4.1f}   {:>4.1f}'.format(\n",
    "            name,\n",
    "            r['min'] * 100, r['25%'] * 100, r['50%'] * 100, r['75%'] * 100, r['max'] * 100,\n",
    "            m['min'], m['25%'], m['50%'], m['75%'], m['max']\n",
    "        )\n",
    "_()"
   ]
  },
  {
   "cell_type": "markdown",
   "metadata": {},
   "source": [
    "# Why is speedup so small if hit-rate is so good?!\n",
    "\n",
    "Something like ~15% speedup with ~50% hit-rate on a test set... Or ~33% speedup with ~60% hit-rate full bucket.\n",
    "\n",
    "Seems, CPU is spent on \"bytes\", not not \"pages\", so we should count hit-rate in bytes..."
   ]
  },
  {
   "cell_type": "code",
   "execution_count": 38,
   "metadata": {},
   "outputs": [
    {
     "name": "stdout",
     "output_type": "stream",
     "text": [
      "          name | hit0    h25    h50    h75   h100 | mem0    m25    m50    m75   m100\n",
      "       d1-gap7 |  0.0    6.4    6.7    7.0    8.5 |  0.0   14.8   15.7   16.7   45.0\n",
      "      only-dup |  0.0   17.2   17.9   18.7   21.0 |  0.0    1.7    1.9    2.0    5.2\n",
      "            d1 |  0.0   19.0   19.7   20.8   23.1 |  0.0   14.9   15.7   16.8   45.0\n",
      "            d2 | 12.4   19.4   20.1   21.2   23.3 | 16.8   29.0   30.8   32.6   58.8\n",
      "only-dup + dyn | 29.8   36.8   37.4   38.2   41.2 |  2.2   16.3   17.2   18.2   46.2\n",
      "      d1 + dyn | 30.4   37.5   38.2   39.0   42.0 | 16.8   29.0   30.8   32.5   58.8\n"
     ]
    }
   ],
   "source": [
    "def _():\n",
    "    print '{:>14s} | {:>4s}   {:>4s}   {:>4s}   {:>4s}   {:>4s} | {:>4s}   {:>4s}   {:>4s}   {:>4s}   {:>4s}'.format(\n",
    "        'name',\n",
    "        'hit0', 'h25', 'h50', 'h75', 'h100',\n",
    "        'mem0', 'm25', 'm50', 'm75', 'm100'\n",
    "    )\n",
    "    \n",
    "    for name, stat in (\n",
    "        ('d1-gap7', d17),\n",
    "        ('only-dup', od),\n",
    "        ('d1', d1),\n",
    "        ('d2', d2),\n",
    "        ('only-dup + dyn', cc),\n",
    "        ('d1 + dyn', dd),\n",
    "    ):\n",
    "        r = stat.bratio.describe()\n",
    "        m = stat.end_len.describe() * CACHEENTRY_SIZE / MB\n",
    "        \n",
    "        print '{:>14s} | {:>4.1f}   {:>4.1f}   {:>4.1f}   {:>4.1f}   {:>4.1f} | {:>4.1f}   {:>4.1f}   {:>4.1f}   {:>4.1f}   {:>4.1f}'.format(\n",
    "            name,\n",
    "            r['min'] * 100, r['25%'] * 100, r['50%'] * 100, r['75%'] * 100, r['max'] * 100,\n",
    "            m['min'], m['25%'], m['50%'], m['75%'], m['max']\n",
    "        )\n",
    "_()"
   ]
  }
 ],
 "metadata": {
  "kernelspec": {
   "display_name": "Python 2",
   "language": "python",
   "name": "python2"
  },
  "language_info": {
   "codemirror_mode": {
    "name": "ipython",
    "version": 2
   },
   "file_extension": ".py",
   "mimetype": "text/x-python",
   "name": "python",
   "nbconvert_exporter": "python",
   "pygments_lexer": "ipython2",
   "version": "2.7.15"
  }
 },
 "nbformat": 4,
 "nbformat_minor": 2
}
